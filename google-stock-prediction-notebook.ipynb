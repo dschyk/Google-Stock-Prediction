{
 "cells": [
  {
   "cell_type": "markdown",
   "id": "fede69fe",
   "metadata": {},
   "source": [
    "## Problem Definition\n",
    "Based on the data can we predict the close and open values for the next 30 days?"
   ]
  },
  {
   "cell_type": "markdown",
   "id": "c2705dda",
   "metadata": {},
   "source": [
    "## Data Dictionary\n",
    "\n",
    "symbol : - Name of the company (in this case Google)\n",
    "\n",
    "date :- year and date\n",
    "\n",
    "close:- closing of stock value\n",
    "\n",
    "high:- highest value of stock at that day\n",
    "\n",
    "low:- lowest value of stock at that day\n",
    "\n",
    "open:- opening value of stock at that day\n",
    "\n",
    "volume:- total number of stocks traded\n",
    "\n",
    "adjClose:-(Adjusted closing price) The adjusted closing price amends a stock's closing price to reflect that stock's value after accounting for any corporate actions\n",
    "\n",
    "adjHigh:- (Adjusted High)\n",
    "\n",
    "adjLow:- (Adjusted Low)\n",
    "\n",
    "adjOpen:- (Adjusted Opening Price)\n",
    "\n",
    "adjVolume:- (Adjusted Volume)\n",
    "\n",
    "divCash:- (Dividend) a distribution of some company's earning\n",
    "\n",
    "splitFactor:- A stock split is a decision by a company's board of directors to increase the number of shares that are outstanding by issuing more shares to current shareholders"
   ]
  },
  {
   "cell_type": "markdown",
   "id": "c5ff17cd",
   "metadata": {},
   "source": [
    "## Importing Tools and Data"
   ]
  },
  {
   "cell_type": "code",
   "execution_count": 1,
   "id": "51809c23",
   "metadata": {},
   "outputs": [],
   "source": [
    "import numpy as np\n",
    "import pandas as pd\n",
    "import matplotlib.pyplot as plt\n",
    "import sklearn\n",
    "import seaborn as sns"
   ]
  },
  {
   "cell_type": "code",
   "execution_count": 14,
   "id": "34e001cf",
   "metadata": {},
   "outputs": [],
   "source": [
    "df = pd.read_csv(\"data/GOOG.csv\")"
   ]
  },
  {
   "cell_type": "markdown",
   "id": "785d0dd3",
   "metadata": {},
   "source": [
    "## Exploratory Data Analysis"
   ]
  },
  {
   "cell_type": "code",
   "execution_count": 12,
   "id": "604028de",
   "metadata": {
    "scrolled": false
   },
   "outputs": [
    {
     "name": "stdout",
     "output_type": "stream",
     "text": [
      "<class 'pandas.core.frame.DataFrame'>\n",
      "RangeIndex: 1257 entries, 0 to 1256\n",
      "Data columns (total 14 columns):\n",
      " #   Column       Non-Null Count  Dtype  \n",
      "---  ------       --------------  -----  \n",
      " 0   symbol       1257 non-null   object \n",
      " 1   date         1257 non-null   object \n",
      " 2   close        1257 non-null   float64\n",
      " 3   high         1257 non-null   float64\n",
      " 4   low          1257 non-null   float64\n",
      " 5   open         1257 non-null   float64\n",
      " 6   volume       1257 non-null   int64  \n",
      " 7   adjClose     1257 non-null   float64\n",
      " 8   adjHigh      1257 non-null   float64\n",
      " 9   adjLow       1257 non-null   float64\n",
      " 10  adjOpen      1257 non-null   float64\n",
      " 11  adjVolume    1257 non-null   int64  \n",
      " 12  divCash      1257 non-null   float64\n",
      " 13  splitFactor  1257 non-null   float64\n",
      "dtypes: float64(10), int64(2), object(2)\n",
      "memory usage: 137.6+ KB\n"
     ]
    }
   ],
   "source": [
    "df.info()"
   ]
  },
  {
   "cell_type": "code",
   "execution_count": 4,
   "id": "328fdfe7",
   "metadata": {
    "scrolled": true
   },
   "outputs": [
    {
     "data": {
      "text/html": [
       "<div>\n",
       "<style scoped>\n",
       "    .dataframe tbody tr th:only-of-type {\n",
       "        vertical-align: middle;\n",
       "    }\n",
       "\n",
       "    .dataframe tbody tr th {\n",
       "        vertical-align: top;\n",
       "    }\n",
       "\n",
       "    .dataframe thead th {\n",
       "        text-align: right;\n",
       "    }\n",
       "</style>\n",
       "<table border=\"1\" class=\"dataframe\">\n",
       "  <thead>\n",
       "    <tr style=\"text-align: right;\">\n",
       "      <th></th>\n",
       "      <th>symbol</th>\n",
       "      <th>date</th>\n",
       "      <th>close</th>\n",
       "      <th>high</th>\n",
       "      <th>low</th>\n",
       "      <th>open</th>\n",
       "      <th>volume</th>\n",
       "      <th>adjClose</th>\n",
       "      <th>adjHigh</th>\n",
       "      <th>adjLow</th>\n",
       "      <th>adjOpen</th>\n",
       "      <th>adjVolume</th>\n",
       "      <th>divCash</th>\n",
       "      <th>splitFactor</th>\n",
       "    </tr>\n",
       "  </thead>\n",
       "  <tbody>\n",
       "    <tr>\n",
       "      <th>0</th>\n",
       "      <td>GOOG</td>\n",
       "      <td>2016-02-16 00:00:00+00:00</td>\n",
       "      <td>691.00</td>\n",
       "      <td>698.0000</td>\n",
       "      <td>685.05</td>\n",
       "      <td>692.98</td>\n",
       "      <td>2520021</td>\n",
       "      <td>691.00</td>\n",
       "      <td>698.0000</td>\n",
       "      <td>685.05</td>\n",
       "      <td>692.98</td>\n",
       "      <td>2520021</td>\n",
       "      <td>0.0</td>\n",
       "      <td>1.0</td>\n",
       "    </tr>\n",
       "    <tr>\n",
       "      <th>1</th>\n",
       "      <td>GOOG</td>\n",
       "      <td>2016-02-17 00:00:00+00:00</td>\n",
       "      <td>708.40</td>\n",
       "      <td>709.7500</td>\n",
       "      <td>691.38</td>\n",
       "      <td>699.00</td>\n",
       "      <td>2492634</td>\n",
       "      <td>708.40</td>\n",
       "      <td>709.7500</td>\n",
       "      <td>691.38</td>\n",
       "      <td>699.00</td>\n",
       "      <td>2492634</td>\n",
       "      <td>0.0</td>\n",
       "      <td>1.0</td>\n",
       "    </tr>\n",
       "    <tr>\n",
       "      <th>2</th>\n",
       "      <td>GOOG</td>\n",
       "      <td>2016-02-18 00:00:00+00:00</td>\n",
       "      <td>697.35</td>\n",
       "      <td>712.3500</td>\n",
       "      <td>696.03</td>\n",
       "      <td>710.00</td>\n",
       "      <td>1883248</td>\n",
       "      <td>697.35</td>\n",
       "      <td>712.3500</td>\n",
       "      <td>696.03</td>\n",
       "      <td>710.00</td>\n",
       "      <td>1883248</td>\n",
       "      <td>0.0</td>\n",
       "      <td>1.0</td>\n",
       "    </tr>\n",
       "    <tr>\n",
       "      <th>3</th>\n",
       "      <td>GOOG</td>\n",
       "      <td>2016-02-19 00:00:00+00:00</td>\n",
       "      <td>700.91</td>\n",
       "      <td>703.0805</td>\n",
       "      <td>694.05</td>\n",
       "      <td>695.03</td>\n",
       "      <td>1589281</td>\n",
       "      <td>700.91</td>\n",
       "      <td>703.0805</td>\n",
       "      <td>694.05</td>\n",
       "      <td>695.03</td>\n",
       "      <td>1589281</td>\n",
       "      <td>0.0</td>\n",
       "      <td>1.0</td>\n",
       "    </tr>\n",
       "    <tr>\n",
       "      <th>4</th>\n",
       "      <td>GOOG</td>\n",
       "      <td>2016-02-22 00:00:00+00:00</td>\n",
       "      <td>706.46</td>\n",
       "      <td>713.2400</td>\n",
       "      <td>702.51</td>\n",
       "      <td>707.45</td>\n",
       "      <td>1949816</td>\n",
       "      <td>706.46</td>\n",
       "      <td>713.2400</td>\n",
       "      <td>702.51</td>\n",
       "      <td>707.45</td>\n",
       "      <td>1949816</td>\n",
       "      <td>0.0</td>\n",
       "      <td>1.0</td>\n",
       "    </tr>\n",
       "  </tbody>\n",
       "</table>\n",
       "</div>"
      ],
      "text/plain": [
       "  symbol                       date   close      high     low    open  \\\n",
       "0   GOOG  2016-02-16 00:00:00+00:00  691.00  698.0000  685.05  692.98   \n",
       "1   GOOG  2016-02-17 00:00:00+00:00  708.40  709.7500  691.38  699.00   \n",
       "2   GOOG  2016-02-18 00:00:00+00:00  697.35  712.3500  696.03  710.00   \n",
       "3   GOOG  2016-02-19 00:00:00+00:00  700.91  703.0805  694.05  695.03   \n",
       "4   GOOG  2016-02-22 00:00:00+00:00  706.46  713.2400  702.51  707.45   \n",
       "\n",
       "    volume  adjClose   adjHigh  adjLow  adjOpen  adjVolume  divCash  \\\n",
       "0  2520021    691.00  698.0000  685.05   692.98    2520021      0.0   \n",
       "1  2492634    708.40  709.7500  691.38   699.00    2492634      0.0   \n",
       "2  1883248    697.35  712.3500  696.03   710.00    1883248      0.0   \n",
       "3  1589281    700.91  703.0805  694.05   695.03    1589281      0.0   \n",
       "4  1949816    706.46  713.2400  702.51   707.45    1949816      0.0   \n",
       "\n",
       "   splitFactor  \n",
       "0          1.0  \n",
       "1          1.0  \n",
       "2          1.0  \n",
       "3          1.0  \n",
       "4          1.0  "
      ]
     },
     "execution_count": 4,
     "metadata": {},
     "output_type": "execute_result"
    }
   ],
   "source": [
    "df.head()"
   ]
  },
  {
   "cell_type": "code",
   "execution_count": 5,
   "id": "26966ebf",
   "metadata": {},
   "outputs": [
    {
     "data": {
      "text/plain": [
       "symbol\n",
       "GOOG    1257\n",
       "dtype: int64"
      ]
     },
     "execution_count": 5,
     "metadata": {},
     "output_type": "execute_result"
    }
   ],
   "source": [
    "df.value_counts('symbol')"
   ]
  },
  {
   "cell_type": "code",
   "execution_count": 6,
   "id": "eddf7be1",
   "metadata": {},
   "outputs": [
    {
     "data": {
      "text/html": [
       "<div>\n",
       "<style scoped>\n",
       "    .dataframe tbody tr th:only-of-type {\n",
       "        vertical-align: middle;\n",
       "    }\n",
       "\n",
       "    .dataframe tbody tr th {\n",
       "        vertical-align: top;\n",
       "    }\n",
       "\n",
       "    .dataframe thead th {\n",
       "        text-align: right;\n",
       "    }\n",
       "</style>\n",
       "<table border=\"1\" class=\"dataframe\">\n",
       "  <thead>\n",
       "    <tr style=\"text-align: right;\">\n",
       "      <th></th>\n",
       "      <th>symbol</th>\n",
       "      <th>date</th>\n",
       "      <th>close</th>\n",
       "      <th>high</th>\n",
       "      <th>low</th>\n",
       "      <th>open</th>\n",
       "      <th>volume</th>\n",
       "      <th>adjClose</th>\n",
       "      <th>adjHigh</th>\n",
       "      <th>adjLow</th>\n",
       "      <th>adjOpen</th>\n",
       "      <th>adjVolume</th>\n",
       "      <th>divCash</th>\n",
       "      <th>splitFactor</th>\n",
       "    </tr>\n",
       "  </thead>\n",
       "  <tbody>\n",
       "    <tr>\n",
       "      <th>1252</th>\n",
       "      <td>GOOG</td>\n",
       "      <td>2021-02-04 00:00:00+00:00</td>\n",
       "      <td>2062.37</td>\n",
       "      <td>2078.5500</td>\n",
       "      <td>2042.59</td>\n",
       "      <td>2068.89</td>\n",
       "      <td>1852329</td>\n",
       "      <td>2062.37</td>\n",
       "      <td>2078.5500</td>\n",
       "      <td>2042.59</td>\n",
       "      <td>2068.89</td>\n",
       "      <td>1852329</td>\n",
       "      <td>0.0</td>\n",
       "      <td>1.0</td>\n",
       "    </tr>\n",
       "    <tr>\n",
       "      <th>1253</th>\n",
       "      <td>GOOG</td>\n",
       "      <td>2021-02-05 00:00:00+00:00</td>\n",
       "      <td>2098.00</td>\n",
       "      <td>2102.5100</td>\n",
       "      <td>2059.33</td>\n",
       "      <td>2070.00</td>\n",
       "      <td>1535135</td>\n",
       "      <td>2098.00</td>\n",
       "      <td>2102.5100</td>\n",
       "      <td>2059.33</td>\n",
       "      <td>2070.00</td>\n",
       "      <td>1535135</td>\n",
       "      <td>0.0</td>\n",
       "      <td>1.0</td>\n",
       "    </tr>\n",
       "    <tr>\n",
       "      <th>1254</th>\n",
       "      <td>GOOG</td>\n",
       "      <td>2021-02-08 00:00:00+00:00</td>\n",
       "      <td>2092.91</td>\n",
       "      <td>2123.5469</td>\n",
       "      <td>2072.00</td>\n",
       "      <td>2105.91</td>\n",
       "      <td>1242411</td>\n",
       "      <td>2092.91</td>\n",
       "      <td>2123.5469</td>\n",
       "      <td>2072.00</td>\n",
       "      <td>2105.91</td>\n",
       "      <td>1242411</td>\n",
       "      <td>0.0</td>\n",
       "      <td>1.0</td>\n",
       "    </tr>\n",
       "    <tr>\n",
       "      <th>1255</th>\n",
       "      <td>GOOG</td>\n",
       "      <td>2021-02-09 00:00:00+00:00</td>\n",
       "      <td>2083.51</td>\n",
       "      <td>2105.1300</td>\n",
       "      <td>2078.54</td>\n",
       "      <td>2078.54</td>\n",
       "      <td>886247</td>\n",
       "      <td>2083.51</td>\n",
       "      <td>2105.1300</td>\n",
       "      <td>2078.54</td>\n",
       "      <td>2078.54</td>\n",
       "      <td>886247</td>\n",
       "      <td>0.0</td>\n",
       "      <td>1.0</td>\n",
       "    </tr>\n",
       "    <tr>\n",
       "      <th>1256</th>\n",
       "      <td>GOOG</td>\n",
       "      <td>2021-02-10 00:00:00+00:00</td>\n",
       "      <td>2095.38</td>\n",
       "      <td>2108.3700</td>\n",
       "      <td>2063.09</td>\n",
       "      <td>2094.21</td>\n",
       "      <td>1132741</td>\n",
       "      <td>2095.38</td>\n",
       "      <td>2108.3700</td>\n",
       "      <td>2063.09</td>\n",
       "      <td>2094.21</td>\n",
       "      <td>1132741</td>\n",
       "      <td>0.0</td>\n",
       "      <td>1.0</td>\n",
       "    </tr>\n",
       "  </tbody>\n",
       "</table>\n",
       "</div>"
      ],
      "text/plain": [
       "     symbol                       date    close       high      low     open  \\\n",
       "1252   GOOG  2021-02-04 00:00:00+00:00  2062.37  2078.5500  2042.59  2068.89   \n",
       "1253   GOOG  2021-02-05 00:00:00+00:00  2098.00  2102.5100  2059.33  2070.00   \n",
       "1254   GOOG  2021-02-08 00:00:00+00:00  2092.91  2123.5469  2072.00  2105.91   \n",
       "1255   GOOG  2021-02-09 00:00:00+00:00  2083.51  2105.1300  2078.54  2078.54   \n",
       "1256   GOOG  2021-02-10 00:00:00+00:00  2095.38  2108.3700  2063.09  2094.21   \n",
       "\n",
       "       volume  adjClose    adjHigh   adjLow  adjOpen  adjVolume  divCash  \\\n",
       "1252  1852329   2062.37  2078.5500  2042.59  2068.89    1852329      0.0   \n",
       "1253  1535135   2098.00  2102.5100  2059.33  2070.00    1535135      0.0   \n",
       "1254  1242411   2092.91  2123.5469  2072.00  2105.91    1242411      0.0   \n",
       "1255   886247   2083.51  2105.1300  2078.54  2078.54     886247      0.0   \n",
       "1256  1132741   2095.38  2108.3700  2063.09  2094.21    1132741      0.0   \n",
       "\n",
       "      splitFactor  \n",
       "1252          1.0  \n",
       "1253          1.0  \n",
       "1254          1.0  \n",
       "1255          1.0  \n",
       "1256          1.0  "
      ]
     },
     "execution_count": 6,
     "metadata": {},
     "output_type": "execute_result"
    }
   ],
   "source": [
    "df.tail()"
   ]
  },
  {
   "cell_type": "code",
   "execution_count": 7,
   "id": "fa728778",
   "metadata": {},
   "outputs": [
    {
     "data": {
      "text/plain": [
       "symbol         0\n",
       "date           0\n",
       "close          0\n",
       "high           0\n",
       "low            0\n",
       "open           0\n",
       "volume         0\n",
       "adjClose       0\n",
       "adjHigh        0\n",
       "adjLow         0\n",
       "adjOpen        0\n",
       "adjVolume      0\n",
       "divCash        0\n",
       "splitFactor    0\n",
       "dtype: int64"
      ]
     },
     "execution_count": 7,
     "metadata": {},
     "output_type": "execute_result"
    }
   ],
   "source": [
    "df.isna().sum()"
   ]
  },
  {
   "cell_type": "code",
   "execution_count": 8,
   "id": "9bed64b2",
   "metadata": {},
   "outputs": [
    {
     "data": {
      "image/png": "[encoded data removed]",
      "text/plain": [
       "<Figure size 432x288 with 1 Axes>"
      ]
     },
     "metadata": {
      "needs_background": "light"
     },
     "output_type": "display_data"
    }
   ],
   "source": [
    "fig, ax = plt.subplots()\n",
    "ax.scatter(df[\"date\"][:1000], df[\"close\"][:1000]);"
   ]
  },
  {
   "cell_type": "code",
   "execution_count": 41,
   "id": "9eb45221",
   "metadata": {},
   "outputs": [
    {
     "data": {
      "image/png": "[encoded data removed]",
      "text/plain": [
       "<Figure size 432x288 with 1 Axes>"
      ]
     },
     "metadata": {
      "needs_background": "light"
     },
     "output_type": "display_data"
    }
   ],
   "source": [
    "fig, ax = plt.subplots()\n",
    "ax.scatter(df[\"open\"], df[\"close\"]);"
   ]
  },
  {
   "cell_type": "code",
   "execution_count": 42,
   "id": "435014b3",
   "metadata": {},
   "outputs": [
    {
     "data": {
      "image/png": "[encoded data removed]",
      "text/plain": [
       "<Figure size 432x288 with 1 Axes>"
      ]
     },
     "metadata": {
      "needs_background": "light"
     },
     "output_type": "display_data"
    }
   ],
   "source": [
    "df.adjClose.plot.hist();"
   ]
  },
  {
   "cell_type": "code",
   "execution_count": 23,
   "id": "beecb580",
   "metadata": {
    "scrolled": true
   },
   "outputs": [
    {
     "data": {
      "text/plain": [
       "divCash\n",
       "0.0    1257\n",
       "dtype: int64"
      ]
     },
     "execution_count": 23,
     "metadata": {},
     "output_type": "execute_result"
    }
   ],
   "source": [
    "df.value_counts('divCash')"
   ]
  },
  {
   "cell_type": "code",
   "execution_count": 24,
   "id": "e741a9aa",
   "metadata": {},
   "outputs": [
    {
     "data": {
      "text/plain": [
       "splitFactor\n",
       "1.0    1257\n",
       "dtype: int64"
      ]
     },
     "execution_count": 24,
     "metadata": {},
     "output_type": "execute_result"
    }
   ],
   "source": [
    "df.value_counts('splitFactor')"
   ]
  },
  {
   "cell_type": "markdown",
   "id": "44969e97",
   "metadata": {},
   "source": [
    "Both divCash and splitFactor have 1 value across the board so they will most likely not be significant in predicting stock prices for Google shares"
   ]
  },
  {
   "cell_type": "markdown",
   "id": "dc46dc8d",
   "metadata": {},
   "source": [
    "Leaving off here, next time create visuals to compare adj to regular of all three types of info (Close, High, Low, Open, Volume)"
   ]
  },
  {
   "cell_type": "markdown",
   "id": "596859b1",
   "metadata": {},
   "source": [
    "### Comparing adjusted values to the original values"
   ]
  },
  {
   "cell_type": "code",
   "execution_count": 38,
   "id": "5c9c757b",
   "metadata": {},
   "outputs": [
    {
     "data": {
      "image/png": "[encoded data removed]",
      "text/plain": [
       "<Figure size 720x360 with 2 Axes>"
      ]
     },
     "metadata": {
      "needs_background": "light"
     },
     "output_type": "display_data"
    }
   ],
   "source": [
    "fig, (ax1, ax2) = plt.subplots(nrows=1,\n",
    "                              ncols=2,\n",
    "                              figsize=(10,5),)\n",
    "\n",
    "ax1.plot(df.close)\n",
    "ax2.plot(df.adjClose)\n",
    "ax1.title.set_text('Close')\n",
    "ax2.title.set_text('adjClose')"
   ]
  },
  {
   "cell_type": "code",
   "execution_count": 31,
   "id": "55d7eef5",
   "metadata": {},
   "outputs": [
    {
     "data": {
      "image/png": "[encoded data removed]",
      "text/plain": [
       "<Figure size 720x360 with 2 Axes>"
      ]
     },
     "metadata": {
      "needs_background": "light"
     },
     "output_type": "display_data"
    }
   ],
   "source": [
    "fig, (ax1, ax2) = plt.subplots(nrows=1,\n",
    "                              ncols=2,\n",
    "                              figsize=(10,5),)\n",
    "\n",
    "ax1.plot(df.high)\n",
    "ax2.plot(df.adjHigh)\n",
    "ax1.title.set_text('High')\n",
    "ax2.title.set_text('adjHigh')"
   ]
  },
  {
   "cell_type": "code",
   "execution_count": 32,
   "id": "8896b36c",
   "metadata": {},
   "outputs": [
    {
     "data": {
      "image/png": "[encoded data removed]",
      "text/plain": [
       "<Figure size 720x360 with 2 Axes>"
      ]
     },
     "metadata": {
      "needs_background": "light"
     },
     "output_type": "display_data"
    }
   ],
   "source": [
    "fig, (ax1, ax2) = plt.subplots(nrows=1,\n",
    "                              ncols=2,\n",
    "                              figsize=(10,5),)\n",
    "\n",
    "ax1.plot(df.low)\n",
    "ax2.plot(df.adjLow)\n",
    "ax1.title.set_text('Low')\n",
    "ax2.title.set_text('adjlow')"
   ]
  },
  {
   "cell_type": "code",
   "execution_count": 33,
   "id": "d45d547b",
   "metadata": {},
   "outputs": [
    {
     "data": {
      "image/png": "[encoded data removed]",
      "text/plain": [
       "<Figure size 720x360 with 2 Axes>"
      ]
     },
     "metadata": {
      "needs_background": "light"
     },
     "output_type": "display_data"
    }
   ],
   "source": [
    "fig, (ax1, ax2) = plt.subplots(nrows=1,\n",
    "                              ncols=2,\n",
    "                              figsize=(10,5),)\n",
    "\n",
    "ax1.plot(df.open)\n",
    "ax2.plot(df.adjOpen)\n",
    "ax1.title.set_text('Open')\n",
    "ax2.title.set_text('adjOpen')"
   ]
  },
  {
   "cell_type": "code",
   "execution_count": 39,
   "id": "417e9a03",
   "metadata": {},
   "outputs": [
    {
     "data": {
      "image/png": "[encoded data removed]",
      "text/plain": [
       "<Figure size 720x360 with 2 Axes>"
      ]
     },
     "metadata": {
      "needs_background": "light"
     },
     "output_type": "display_data"
    }
   ],
   "source": [
    "fig, (ax1, ax2) = plt.subplots(nrows=1,\n",
    "                              ncols=2,\n",
    "                              figsize=(10,5),)\n",
    "\n",
    "ax1.plot(df.volume)\n",
    "ax2.plot(df.adjVolume)\n",
    "ax1.title.set_text('Volume')\n",
    "ax2.title.set_text('adjVolume')"
   ]
  },
  {
   "cell_type": "markdown",
   "id": "320824e1",
   "metadata": {},
   "source": [
    "From all of the comparison graphs above we can see that the adjusted values were very similar to their original values in all categories. We can infer here there was very little to no adjusted changes typically."
   ]
  },
  {
   "cell_type": "markdown",
   "id": "97cd254d",
   "metadata": {},
   "source": [
    "### Parse the Dates of the Data Frame"
   ]
  },
  {
   "cell_type": "code",
   "execution_count": 15,
   "id": "5033b540",
   "metadata": {},
   "outputs": [],
   "source": [
    "df = pd.read_csv(\"data/GOOG.csv\",\n",
    "                low_memory=False,\n",
    "                parse_dates=[\"date\"])"
   ]
  },
  {
   "cell_type": "code",
   "execution_count": 16,
   "id": "2d03ce17",
   "metadata": {
    "scrolled": true
   },
   "outputs": [
    {
     "name": "stdout",
     "output_type": "stream",
     "text": [
      "<class 'pandas.core.frame.DataFrame'>\n",
      "RangeIndex: 1257 entries, 0 to 1256\n",
      "Data columns (total 14 columns):\n",
      " #   Column       Non-Null Count  Dtype              \n",
      "---  ------       --------------  -----              \n",
      " 0   symbol       1257 non-null   object             \n",
      " 1   date         1257 non-null   datetime64[ns, UTC]\n",
      " 2   close        1257 non-null   float64            \n",
      " 3   high         1257 non-null   float64            \n",
      " 4   low          1257 non-null   float64            \n",
      " 5   open         1257 non-null   float64            \n",
      " 6   volume       1257 non-null   int64              \n",
      " 7   adjClose     1257 non-null   float64            \n",
      " 8   adjHigh      1257 non-null   float64            \n",
      " 9   adjLow       1257 non-null   float64            \n",
      " 10  adjOpen      1257 non-null   float64            \n",
      " 11  adjVolume    1257 non-null   int64              \n",
      " 12  divCash      1257 non-null   float64            \n",
      " 13  splitFactor  1257 non-null   float64            \n",
      "dtypes: datetime64[ns, UTC](1), float64(10), int64(2), object(1)\n",
      "memory usage: 137.6+ KB\n"
     ]
    }
   ],
   "source": [
    "df.info()"
   ]
  },
  {
   "cell_type": "code",
   "execution_count": 17,
   "id": "7411e89f",
   "metadata": {},
   "outputs": [
    {
     "data": {
      "text/plain": [
       "0     2016-02-16 00:00:00+00:00\n",
       "1     2016-02-17 00:00:00+00:00\n",
       "2     2016-02-18 00:00:00+00:00\n",
       "3     2016-02-19 00:00:00+00:00\n",
       "4     2016-02-22 00:00:00+00:00\n",
       "                 ...           \n",
       "995   2020-01-29 00:00:00+00:00\n",
       "996   2020-01-30 00:00:00+00:00\n",
       "997   2020-01-31 00:00:00+00:00\n",
       "998   2020-02-03 00:00:00+00:00\n",
       "999   2020-02-04 00:00:00+00:00\n",
       "Name: date, Length: 1000, dtype: datetime64[ns, UTC]"
      ]
     },
     "execution_count": 17,
     "metadata": {},
     "output_type": "execute_result"
    }
   ],
   "source": [
    "df.date[:1000]"
   ]
  },
  {
   "cell_type": "code",
   "execution_count": 18,
   "id": "56788fd8",
   "metadata": {},
   "outputs": [],
   "source": [
    "# Make a copy of the dataframe\n",
    "df_tmp = df.copy()"
   ]
  },
  {
   "cell_type": "code",
   "execution_count": 20,
   "id": "f54438d8",
   "metadata": {},
   "outputs": [],
   "source": [
    "df_tmp[\"Year\"] = df_tmp.date.dt.year\n",
    "df_tmp[\"Month\"] = df_tmp.date.dt.month\n",
    "df_tmp[\"Day\"] = df_tmp.date.dt.day\n",
    "df_tmp[\"DayOfWeek\"] = df_tmp.date.dt.dayofweek\n",
    "df_tmp[\"DayOfYear\"] = df_tmp.date.dt.dayofyear"
   ]
  },
  {
   "cell_type": "code",
   "execution_count": 22,
   "id": "4b969aa9",
   "metadata": {},
   "outputs": [
    {
     "data": {
      "text/html": [
       "<div>\n",
       "<style scoped>\n",
       "    .dataframe tbody tr th:only-of-type {\n",
       "        vertical-align: middle;\n",
       "    }\n",
       "\n",
       "    .dataframe tbody tr th {\n",
       "        vertical-align: top;\n",
       "    }\n",
       "\n",
       "    .dataframe thead th {\n",
       "        text-align: right;\n",
       "    }\n",
       "</style>\n",
       "<table border=\"1\" class=\"dataframe\">\n",
       "  <thead>\n",
       "    <tr style=\"text-align: right;\">\n",
       "      <th></th>\n",
       "      <th>symbol</th>\n",
       "      <th>date</th>\n",
       "      <th>close</th>\n",
       "      <th>high</th>\n",
       "      <th>low</th>\n",
       "      <th>open</th>\n",
       "      <th>volume</th>\n",
       "      <th>adjClose</th>\n",
       "      <th>adjHigh</th>\n",
       "      <th>adjLow</th>\n",
       "      <th>adjOpen</th>\n",
       "      <th>adjVolume</th>\n",
       "      <th>divCash</th>\n",
       "      <th>splitFactor</th>\n",
       "      <th>Year</th>\n",
       "      <th>Month</th>\n",
       "      <th>Day</th>\n",
       "      <th>DayOfWeek</th>\n",
       "      <th>DayOfYear</th>\n",
       "    </tr>\n",
       "  </thead>\n",
       "  <tbody>\n",
       "    <tr>\n",
       "      <th>0</th>\n",
       "      <td>GOOG</td>\n",
       "      <td>2016-02-16 00:00:00+00:00</td>\n",
       "      <td>691.00</td>\n",
       "      <td>698.0000</td>\n",
       "      <td>685.05</td>\n",
       "      <td>692.98</td>\n",
       "      <td>2520021</td>\n",
       "      <td>691.00</td>\n",
       "      <td>698.0000</td>\n",
       "      <td>685.05</td>\n",
       "      <td>692.98</td>\n",
       "      <td>2520021</td>\n",
       "      <td>0.0</td>\n",
       "      <td>1.0</td>\n",
       "      <td>2016</td>\n",
       "      <td>2</td>\n",
       "      <td>16</td>\n",
       "      <td>1</td>\n",
       "      <td>47</td>\n",
       "    </tr>\n",
       "    <tr>\n",
       "      <th>1</th>\n",
       "      <td>GOOG</td>\n",
       "      <td>2016-02-17 00:00:00+00:00</td>\n",
       "      <td>708.40</td>\n",
       "      <td>709.7500</td>\n",
       "      <td>691.38</td>\n",
       "      <td>699.00</td>\n",
       "      <td>2492634</td>\n",
       "      <td>708.40</td>\n",
       "      <td>709.7500</td>\n",
       "      <td>691.38</td>\n",
       "      <td>699.00</td>\n",
       "      <td>2492634</td>\n",
       "      <td>0.0</td>\n",
       "      <td>1.0</td>\n",
       "      <td>2016</td>\n",
       "      <td>2</td>\n",
       "      <td>17</td>\n",
       "      <td>2</td>\n",
       "      <td>48</td>\n",
       "    </tr>\n",
       "    <tr>\n",
       "      <th>2</th>\n",
       "      <td>GOOG</td>\n",
       "      <td>2016-02-18 00:00:00+00:00</td>\n",
       "      <td>697.35</td>\n",
       "      <td>712.3500</td>\n",
       "      <td>696.03</td>\n",
       "      <td>710.00</td>\n",
       "      <td>1883248</td>\n",
       "      <td>697.35</td>\n",
       "      <td>712.3500</td>\n",
       "      <td>696.03</td>\n",
       "      <td>710.00</td>\n",
       "      <td>1883248</td>\n",
       "      <td>0.0</td>\n",
       "      <td>1.0</td>\n",
       "      <td>2016</td>\n",
       "      <td>2</td>\n",
       "      <td>18</td>\n",
       "      <td>3</td>\n",
       "      <td>49</td>\n",
       "    </tr>\n",
       "    <tr>\n",
       "      <th>3</th>\n",
       "      <td>GOOG</td>\n",
       "      <td>2016-02-19 00:00:00+00:00</td>\n",
       "      <td>700.91</td>\n",
       "      <td>703.0805</td>\n",
       "      <td>694.05</td>\n",
       "      <td>695.03</td>\n",
       "      <td>1589281</td>\n",
       "      <td>700.91</td>\n",
       "      <td>703.0805</td>\n",
       "      <td>694.05</td>\n",
       "      <td>695.03</td>\n",
       "      <td>1589281</td>\n",
       "      <td>0.0</td>\n",
       "      <td>1.0</td>\n",
       "      <td>2016</td>\n",
       "      <td>2</td>\n",
       "      <td>19</td>\n",
       "      <td>4</td>\n",
       "      <td>50</td>\n",
       "    </tr>\n",
       "    <tr>\n",
       "      <th>4</th>\n",
       "      <td>GOOG</td>\n",
       "      <td>2016-02-22 00:00:00+00:00</td>\n",
       "      <td>706.46</td>\n",
       "      <td>713.2400</td>\n",
       "      <td>702.51</td>\n",
       "      <td>707.45</td>\n",
       "      <td>1949816</td>\n",
       "      <td>706.46</td>\n",
       "      <td>713.2400</td>\n",
       "      <td>702.51</td>\n",
       "      <td>707.45</td>\n",
       "      <td>1949816</td>\n",
       "      <td>0.0</td>\n",
       "      <td>1.0</td>\n",
       "      <td>2016</td>\n",
       "      <td>2</td>\n",
       "      <td>22</td>\n",
       "      <td>0</td>\n",
       "      <td>53</td>\n",
       "    </tr>\n",
       "  </tbody>\n",
       "</table>\n",
       "</div>"
      ],
      "text/plain": [
       "  symbol                      date   close      high     low    open   volume  \\\n",
       "0   GOOG 2016-02-16 00:00:00+00:00  691.00  698.0000  685.05  692.98  2520021   \n",
       "1   GOOG 2016-02-17 00:00:00+00:00  708.40  709.7500  691.38  699.00  2492634   \n",
       "2   GOOG 2016-02-18 00:00:00+00:00  697.35  712.3500  696.03  710.00  1883248   \n",
       "3   GOOG 2016-02-19 00:00:00+00:00  700.91  703.0805  694.05  695.03  1589281   \n",
       "4   GOOG 2016-02-22 00:00:00+00:00  706.46  713.2400  702.51  707.45  1949816   \n",
       "\n",
       "   adjClose   adjHigh  adjLow  adjOpen  adjVolume  divCash  splitFactor  Year  \\\n",
       "0    691.00  698.0000  685.05   692.98    2520021      0.0          1.0  2016   \n",
       "1    708.40  709.7500  691.38   699.00    2492634      0.0          1.0  2016   \n",
       "2    697.35  712.3500  696.03   710.00    1883248      0.0          1.0  2016   \n",
       "3    700.91  703.0805  694.05   695.03    1589281      0.0          1.0  2016   \n",
       "4    706.46  713.2400  702.51   707.45    1949816      0.0          1.0  2016   \n",
       "\n",
       "   Month  Day  DayOfWeek  DayOfYear  \n",
       "0      2   16          1         47  \n",
       "1      2   17          2         48  \n",
       "2      2   18          3         49  \n",
       "3      2   19          4         50  \n",
       "4      2   22          0         53  "
      ]
     },
     "execution_count": 22,
     "metadata": {},
     "output_type": "execute_result"
    }
   ],
   "source": [
    "df_tmp.head()"
   ]
  },
  {
   "cell_type": "code",
   "execution_count": 23,
   "id": "028a0f5f",
   "metadata": {},
   "outputs": [],
   "source": [
    "# Drop the original date column\n",
    "df_tmp.drop(\"date\", axis=1, inplace=True)"
   ]
  },
  {
   "cell_type": "code",
   "execution_count": 26,
   "id": "81b83fe2",
   "metadata": {},
   "outputs": [
    {
     "ename": "KeyError",
     "evalue": "\"['symbol'] not found in axis\"",
     "output_type": "error",
     "traceback": [
      "\u001b[1;31m---------------------------------------------------------------------------\u001b[0m",
      "\u001b[1;31mKeyError\u001b[0m                                  Traceback (most recent call last)",
      "\u001b[1;32m<ipython-input-26-7ba11c0c61be>\u001b[0m in \u001b[0;36m<module>\u001b[1;34m\u001b[0m\n\u001b[0;32m      1\u001b[0m \u001b[1;31m# Dropping the symbol column since it is all the same information and an object\u001b[0m\u001b[1;33m\u001b[0m\u001b[1;33m\u001b[0m\u001b[1;33m\u001b[0m\u001b[0m\n\u001b[1;32m----> 2\u001b[1;33m \u001b[0mdf_tmp\u001b[0m\u001b[1;33m.\u001b[0m\u001b[0mdrop\u001b[0m\u001b[1;33m(\u001b[0m\u001b[1;34m\"symbol\"\u001b[0m\u001b[1;33m,\u001b[0m \u001b[0maxis\u001b[0m\u001b[1;33m=\u001b[0m\u001b[1;36m1\u001b[0m\u001b[1;33m,\u001b[0m \u001b[0minplace\u001b[0m\u001b[1;33m=\u001b[0m\u001b[1;32mTrue\u001b[0m\u001b[1;33m)\u001b[0m\u001b[1;33m\u001b[0m\u001b[1;33m\u001b[0m\u001b[0m\n\u001b[0m",
      "\u001b[1;32m~\\OneDrive\\Desktop\\Kaggle-Projects\\google-stock-prediction\\env\\lib\\site-packages\\pandas\\core\\frame.py\u001b[0m in \u001b[0;36mdrop\u001b[1;34m(self, labels, axis, index, columns, level, inplace, errors)\u001b[0m\n\u001b[0;32m   4306\u001b[0m                 \u001b[0mweight\u001b[0m  \u001b[1;36m1.0\u001b[0m     \u001b[1;36m0.8\u001b[0m\u001b[1;33m\u001b[0m\u001b[1;33m\u001b[0m\u001b[0m\n\u001b[0;32m   4307\u001b[0m         \"\"\"\n\u001b[1;32m-> 4308\u001b[1;33m         return super().drop(\n\u001b[0m\u001b[0;32m   4309\u001b[0m             \u001b[0mlabels\u001b[0m\u001b[1;33m=\u001b[0m\u001b[0mlabels\u001b[0m\u001b[1;33m,\u001b[0m\u001b[1;33m\u001b[0m\u001b[1;33m\u001b[0m\u001b[0m\n\u001b[0;32m   4310\u001b[0m             \u001b[0maxis\u001b[0m\u001b[1;33m=\u001b[0m\u001b[0maxis\u001b[0m\u001b[1;33m,\u001b[0m\u001b[1;33m\u001b[0m\u001b[1;33m\u001b[0m\u001b[0m\n",
      "\u001b[1;32m~\\OneDrive\\Desktop\\Kaggle-Projects\\google-stock-prediction\\env\\lib\\site-packages\\pandas\\core\\generic.py\u001b[0m in \u001b[0;36mdrop\u001b[1;34m(self, labels, axis, index, columns, level, inplace, errors)\u001b[0m\n\u001b[0;32m   4151\u001b[0m         \u001b[1;32mfor\u001b[0m \u001b[0maxis\u001b[0m\u001b[1;33m,\u001b[0m \u001b[0mlabels\u001b[0m \u001b[1;32min\u001b[0m \u001b[0maxes\u001b[0m\u001b[1;33m.\u001b[0m\u001b[0mitems\u001b[0m\u001b[1;33m(\u001b[0m\u001b[1;33m)\u001b[0m\u001b[1;33m:\u001b[0m\u001b[1;33m\u001b[0m\u001b[1;33m\u001b[0m\u001b[0m\n\u001b[0;32m   4152\u001b[0m             \u001b[1;32mif\u001b[0m \u001b[0mlabels\u001b[0m \u001b[1;32mis\u001b[0m \u001b[1;32mnot\u001b[0m \u001b[1;32mNone\u001b[0m\u001b[1;33m:\u001b[0m\u001b[1;33m\u001b[0m\u001b[1;33m\u001b[0m\u001b[0m\n\u001b[1;32m-> 4153\u001b[1;33m                 \u001b[0mobj\u001b[0m \u001b[1;33m=\u001b[0m \u001b[0mobj\u001b[0m\u001b[1;33m.\u001b[0m\u001b[0m_drop_axis\u001b[0m\u001b[1;33m(\u001b[0m\u001b[0mlabels\u001b[0m\u001b[1;33m,\u001b[0m \u001b[0maxis\u001b[0m\u001b[1;33m,\u001b[0m \u001b[0mlevel\u001b[0m\u001b[1;33m=\u001b[0m\u001b[0mlevel\u001b[0m\u001b[1;33m,\u001b[0m \u001b[0merrors\u001b[0m\u001b[1;33m=\u001b[0m\u001b[0merrors\u001b[0m\u001b[1;33m)\u001b[0m\u001b[1;33m\u001b[0m\u001b[1;33m\u001b[0m\u001b[0m\n\u001b[0m\u001b[0;32m   4154\u001b[0m \u001b[1;33m\u001b[0m\u001b[0m\n\u001b[0;32m   4155\u001b[0m         \u001b[1;32mif\u001b[0m \u001b[0minplace\u001b[0m\u001b[1;33m:\u001b[0m\u001b[1;33m\u001b[0m\u001b[1;33m\u001b[0m\u001b[0m\n",
      "\u001b[1;32m~\\OneDrive\\Desktop\\Kaggle-Projects\\google-stock-prediction\\env\\lib\\site-packages\\pandas\\core\\generic.py\u001b[0m in \u001b[0;36m_drop_axis\u001b[1;34m(self, labels, axis, level, errors)\u001b[0m\n\u001b[0;32m   4186\u001b[0m                 \u001b[0mnew_axis\u001b[0m \u001b[1;33m=\u001b[0m \u001b[0maxis\u001b[0m\u001b[1;33m.\u001b[0m\u001b[0mdrop\u001b[0m\u001b[1;33m(\u001b[0m\u001b[0mlabels\u001b[0m\u001b[1;33m,\u001b[0m \u001b[0mlevel\u001b[0m\u001b[1;33m=\u001b[0m\u001b[0mlevel\u001b[0m\u001b[1;33m,\u001b[0m \u001b[0merrors\u001b[0m\u001b[1;33m=\u001b[0m\u001b[0merrors\u001b[0m\u001b[1;33m)\u001b[0m\u001b[1;33m\u001b[0m\u001b[1;33m\u001b[0m\u001b[0m\n\u001b[0;32m   4187\u001b[0m             \u001b[1;32melse\u001b[0m\u001b[1;33m:\u001b[0m\u001b[1;33m\u001b[0m\u001b[1;33m\u001b[0m\u001b[0m\n\u001b[1;32m-> 4188\u001b[1;33m                 \u001b[0mnew_axis\u001b[0m \u001b[1;33m=\u001b[0m \u001b[0maxis\u001b[0m\u001b[1;33m.\u001b[0m\u001b[0mdrop\u001b[0m\u001b[1;33m(\u001b[0m\u001b[0mlabels\u001b[0m\u001b[1;33m,\u001b[0m \u001b[0merrors\u001b[0m\u001b[1;33m=\u001b[0m\u001b[0merrors\u001b[0m\u001b[1;33m)\u001b[0m\u001b[1;33m\u001b[0m\u001b[1;33m\u001b[0m\u001b[0m\n\u001b[0m\u001b[0;32m   4189\u001b[0m             \u001b[0mresult\u001b[0m \u001b[1;33m=\u001b[0m \u001b[0mself\u001b[0m\u001b[1;33m.\u001b[0m\u001b[0mreindex\u001b[0m\u001b[1;33m(\u001b[0m\u001b[1;33m**\u001b[0m\u001b[1;33m{\u001b[0m\u001b[0maxis_name\u001b[0m\u001b[1;33m:\u001b[0m \u001b[0mnew_axis\u001b[0m\u001b[1;33m}\u001b[0m\u001b[1;33m)\u001b[0m\u001b[1;33m\u001b[0m\u001b[1;33m\u001b[0m\u001b[0m\n\u001b[0;32m   4190\u001b[0m \u001b[1;33m\u001b[0m\u001b[0m\n",
      "\u001b[1;32m~\\OneDrive\\Desktop\\Kaggle-Projects\\google-stock-prediction\\env\\lib\\site-packages\\pandas\\core\\indexes\\base.py\u001b[0m in \u001b[0;36mdrop\u001b[1;34m(self, labels, errors)\u001b[0m\n\u001b[0;32m   5589\u001b[0m         \u001b[1;32mif\u001b[0m \u001b[0mmask\u001b[0m\u001b[1;33m.\u001b[0m\u001b[0many\u001b[0m\u001b[1;33m(\u001b[0m\u001b[1;33m)\u001b[0m\u001b[1;33m:\u001b[0m\u001b[1;33m\u001b[0m\u001b[1;33m\u001b[0m\u001b[0m\n\u001b[0;32m   5590\u001b[0m             \u001b[1;32mif\u001b[0m \u001b[0merrors\u001b[0m \u001b[1;33m!=\u001b[0m \u001b[1;34m\"ignore\"\u001b[0m\u001b[1;33m:\u001b[0m\u001b[1;33m\u001b[0m\u001b[1;33m\u001b[0m\u001b[0m\n\u001b[1;32m-> 5591\u001b[1;33m                 \u001b[1;32mraise\u001b[0m \u001b[0mKeyError\u001b[0m\u001b[1;33m(\u001b[0m\u001b[1;34mf\"{labels[mask]} not found in axis\"\u001b[0m\u001b[1;33m)\u001b[0m\u001b[1;33m\u001b[0m\u001b[1;33m\u001b[0m\u001b[0m\n\u001b[0m\u001b[0;32m   5592\u001b[0m             \u001b[0mindexer\u001b[0m \u001b[1;33m=\u001b[0m \u001b[0mindexer\u001b[0m\u001b[1;33m[\u001b[0m\u001b[1;33m~\u001b[0m\u001b[0mmask\u001b[0m\u001b[1;33m]\u001b[0m\u001b[1;33m\u001b[0m\u001b[1;33m\u001b[0m\u001b[0m\n\u001b[0;32m   5593\u001b[0m         \u001b[1;32mreturn\u001b[0m \u001b[0mself\u001b[0m\u001b[1;33m.\u001b[0m\u001b[0mdelete\u001b[0m\u001b[1;33m(\u001b[0m\u001b[0mindexer\u001b[0m\u001b[1;33m)\u001b[0m\u001b[1;33m\u001b[0m\u001b[1;33m\u001b[0m\u001b[0m\n",
      "\u001b[1;31mKeyError\u001b[0m: \"['symbol'] not found in axis\""
     ]
    }
   ],
   "source": [
    "# Dropping the symbol column since it is all the same information and an object\n",
    "df_tmp.drop(\"symbol\", axis=1, inplace=True)"
   ]
  },
  {
   "cell_type": "code",
   "execution_count": 27,
   "id": "4b73c525",
   "metadata": {
    "scrolled": true
   },
   "outputs": [
    {
     "data": {
      "text/html": [
       "<div>\n",
       "<style scoped>\n",
       "    .dataframe tbody tr th:only-of-type {\n",
       "        vertical-align: middle;\n",
       "    }\n",
       "\n",
       "    .dataframe tbody tr th {\n",
       "        vertical-align: top;\n",
       "    }\n",
       "\n",
       "    .dataframe thead th {\n",
       "        text-align: right;\n",
       "    }\n",
       "</style>\n",
       "<table border=\"1\" class=\"dataframe\">\n",
       "  <thead>\n",
       "    <tr style=\"text-align: right;\">\n",
       "      <th></th>\n",
       "      <th>close</th>\n",
       "      <th>high</th>\n",
       "      <th>low</th>\n",
       "      <th>open</th>\n",
       "      <th>volume</th>\n",
       "      <th>adjClose</th>\n",
       "      <th>adjHigh</th>\n",
       "      <th>adjLow</th>\n",
       "      <th>adjOpen</th>\n",
       "      <th>adjVolume</th>\n",
       "      <th>divCash</th>\n",
       "      <th>splitFactor</th>\n",
       "      <th>Year</th>\n",
       "      <th>Month</th>\n",
       "      <th>Day</th>\n",
       "      <th>DayOfWeek</th>\n",
       "      <th>DayOfYear</th>\n",
       "    </tr>\n",
       "  </thead>\n",
       "  <tbody>\n",
       "    <tr>\n",
       "      <th>0</th>\n",
       "      <td>691.00</td>\n",
       "      <td>698.0000</td>\n",
       "      <td>685.05</td>\n",
       "      <td>692.98</td>\n",
       "      <td>2520021</td>\n",
       "      <td>691.00</td>\n",
       "      <td>698.0000</td>\n",
       "      <td>685.05</td>\n",
       "      <td>692.98</td>\n",
       "      <td>2520021</td>\n",
       "      <td>0.0</td>\n",
       "      <td>1.0</td>\n",
       "      <td>2016</td>\n",
       "      <td>2</td>\n",
       "      <td>16</td>\n",
       "      <td>1</td>\n",
       "      <td>47</td>\n",
       "    </tr>\n",
       "    <tr>\n",
       "      <th>1</th>\n",
       "      <td>708.40</td>\n",
       "      <td>709.7500</td>\n",
       "      <td>691.38</td>\n",
       "      <td>699.00</td>\n",
       "      <td>2492634</td>\n",
       "      <td>708.40</td>\n",
       "      <td>709.7500</td>\n",
       "      <td>691.38</td>\n",
       "      <td>699.00</td>\n",
       "      <td>2492634</td>\n",
       "      <td>0.0</td>\n",
       "      <td>1.0</td>\n",
       "      <td>2016</td>\n",
       "      <td>2</td>\n",
       "      <td>17</td>\n",
       "      <td>2</td>\n",
       "      <td>48</td>\n",
       "    </tr>\n",
       "    <tr>\n",
       "      <th>2</th>\n",
       "      <td>697.35</td>\n",
       "      <td>712.3500</td>\n",
       "      <td>696.03</td>\n",
       "      <td>710.00</td>\n",
       "      <td>1883248</td>\n",
       "      <td>697.35</td>\n",
       "      <td>712.3500</td>\n",
       "      <td>696.03</td>\n",
       "      <td>710.00</td>\n",
       "      <td>1883248</td>\n",
       "      <td>0.0</td>\n",
       "      <td>1.0</td>\n",
       "      <td>2016</td>\n",
       "      <td>2</td>\n",
       "      <td>18</td>\n",
       "      <td>3</td>\n",
       "      <td>49</td>\n",
       "    </tr>\n",
       "    <tr>\n",
       "      <th>3</th>\n",
       "      <td>700.91</td>\n",
       "      <td>703.0805</td>\n",
       "      <td>694.05</td>\n",
       "      <td>695.03</td>\n",
       "      <td>1589281</td>\n",
       "      <td>700.91</td>\n",
       "      <td>703.0805</td>\n",
       "      <td>694.05</td>\n",
       "      <td>695.03</td>\n",
       "      <td>1589281</td>\n",
       "      <td>0.0</td>\n",
       "      <td>1.0</td>\n",
       "      <td>2016</td>\n",
       "      <td>2</td>\n",
       "      <td>19</td>\n",
       "      <td>4</td>\n",
       "      <td>50</td>\n",
       "    </tr>\n",
       "    <tr>\n",
       "      <th>4</th>\n",
       "      <td>706.46</td>\n",
       "      <td>713.2400</td>\n",
       "      <td>702.51</td>\n",
       "      <td>707.45</td>\n",
       "      <td>1949816</td>\n",
       "      <td>706.46</td>\n",
       "      <td>713.2400</td>\n",
       "      <td>702.51</td>\n",
       "      <td>707.45</td>\n",
       "      <td>1949816</td>\n",
       "      <td>0.0</td>\n",
       "      <td>1.0</td>\n",
       "      <td>2016</td>\n",
       "      <td>2</td>\n",
       "      <td>22</td>\n",
       "      <td>0</td>\n",
       "      <td>53</td>\n",
       "    </tr>\n",
       "  </tbody>\n",
       "</table>\n",
       "</div>"
      ],
      "text/plain": [
       "    close      high     low    open   volume  adjClose   adjHigh  adjLow  \\\n",
       "0  691.00  698.0000  685.05  692.98  2520021    691.00  698.0000  685.05   \n",
       "1  708.40  709.7500  691.38  699.00  2492634    708.40  709.7500  691.38   \n",
       "2  697.35  712.3500  696.03  710.00  1883248    697.35  712.3500  696.03   \n",
       "3  700.91  703.0805  694.05  695.03  1589281    700.91  703.0805  694.05   \n",
       "4  706.46  713.2400  702.51  707.45  1949816    706.46  713.2400  702.51   \n",
       "\n",
       "   adjOpen  adjVolume  divCash  splitFactor  Year  Month  Day  DayOfWeek  \\\n",
       "0   692.98    2520021      0.0          1.0  2016      2   16          1   \n",
       "1   699.00    2492634      0.0          1.0  2016      2   17          2   \n",
       "2   710.00    1883248      0.0          1.0  2016      2   18          3   \n",
       "3   695.03    1589281      0.0          1.0  2016      2   19          4   \n",
       "4   707.45    1949816      0.0          1.0  2016      2   22          0   \n",
       "\n",
       "   DayOfYear  \n",
       "0         47  \n",
       "1         48  \n",
       "2         49  \n",
       "3         50  \n",
       "4         53  "
      ]
     },
     "execution_count": 27,
     "metadata": {},
     "output_type": "execute_result"
    }
   ],
   "source": [
    "df_tmp.head()"
   ]
  },
  {
   "cell_type": "markdown",
   "id": "26ad133a",
   "metadata": {},
   "source": [
    "## Modeling"
   ]
  },
  {
   "cell_type": "code",
   "execution_count": 31,
   "id": "0d2ebfd4",
   "metadata": {},
   "outputs": [],
   "source": [
    "df_tmp.drop(['divCash', 'splitFactor'], axis=1, inplace= True)"
   ]
  },
  {
   "cell_type": "code",
   "execution_count": 58,
   "id": "a98ef751",
   "metadata": {
    "scrolled": true
   },
   "outputs": [
    {
     "name": "stdout",
     "output_type": "stream",
     "text": [
      "Collecting statsmodels\n",
      "  Downloading statsmodels-0.12.2-cp39-none-win_amd64.whl (9.4 MB)\n",
      "Requirement already satisfied: scipy>=1.1 in c:\\users\\dschy\\onedrive\\desktop\\kaggle-projects\\google-stock-prediction\\env\\lib\\site-packages (from statsmodels) (1.6.2)\n",
      "Requirement already satisfied: numpy>=1.15 in c:\\users\\dschy\\onedrive\\desktop\\kaggle-projects\\google-stock-prediction\\env\\lib\\site-packages (from statsmodels) (1.20.1)\n",
      "Collecting patsy>=0.5\n",
      "  Downloading patsy-0.5.1-py2.py3-none-any.whl (231 kB)\n",
      "Requirement already satisfied: pandas>=0.21 in c:\\users\\dschy\\onedrive\\desktop\\kaggle-projects\\google-stock-prediction\\env\\lib\\site-packages (from statsmodels) (1.2.4)\n",
      "Requirement already satisfied: python-dateutil>=2.7.3 in c:\\users\\dschy\\onedrive\\desktop\\kaggle-projects\\google-stock-prediction\\env\\lib\\site-packages (from pandas>=0.21->statsmodels) (2.8.1)\n",
      "Requirement already satisfied: pytz>=2017.3 in c:\\users\\dschy\\onedrive\\desktop\\kaggle-projects\\google-stock-prediction\\env\\lib\\site-packages (from pandas>=0.21->statsmodels) (2021.1)\n",
      "Requirement already satisfied: six in c:\\users\\dschy\\onedrive\\desktop\\kaggle-projects\\google-stock-prediction\\env\\lib\\site-packages (from patsy>=0.5->statsmodels) (1.15.0)\n",
      "Installing collected packages: patsy, statsmodels\n",
      "Successfully installed patsy-0.5.1 statsmodels-0.12.2\n",
      "Note: you may need to restart the kernel to use updated packages.\n"
     ]
    }
   ],
   "source": [
    "pip install statsmodels"
   ]
  },
  {
   "cell_type": "code",
   "execution_count": 59,
   "id": "22c7804c",
   "metadata": {},
   "outputs": [],
   "source": [
    "import statsmodels.api as sm\n",
    "from statsmodels.tsa.api import VAR"
   ]
  },
  {
   "cell_type": "code",
   "execution_count": 62,
   "id": "2b3f44cc",
   "metadata": {},
   "outputs": [],
   "source": [
    "# Train test split\n",
    "from sklearn.model_selection import train_test_split\n",
    "\n",
    "def VarForecasting(Actual):\n",
    "        model = VAR(Actual)\n",
    "        model_fit = model.fit()\n",
    "        prediction = model_fit.forecast(model_fit.y, steps=10) # predicting all the next 10 values at each step\n",
    "        return np.array(prediction)"
   ]
  },
  {
   "cell_type": "code",
   "execution_count": 63,
   "id": "4809cc1a",
   "metadata": {},
   "outputs": [
    {
     "name": "stderr",
     "output_type": "stream",
     "text": [
      "C:\\Users\\Dschy\\OneDrive\\Desktop\\Kaggle-Projects\\google-stock-prediction\\env\\lib\\site-packages\\statsmodels\\base\\wrapper.py:34: FutureWarning: y is a deprecated alias for endog, will be removed in version 0.11.0\n",
      "  obj = getattr(results, attr)\n"
     ]
    }
   ],
   "source": [
    "close_predictions=[]\n",
    "open_predictions=[]\n",
    "for timepoint in range(0, len(test)):\n",
    "    Actual_train = df_tmp.iloc[timepoint:timepoint + len(train)]\n",
    "    Prediction = VarForecasting(Actual_train)\n",
    "    close_predictions.append(Prediction[:,0])\n",
    "    open_predictions.append(Prediction[:,3])"
   ]
  },
  {
   "cell_type": "code",
   "execution_count": 64,
   "id": "78b197b0",
   "metadata": {},
   "outputs": [
    {
     "data": {
      "text/plain": [
       "array([1511.43134839, 1510.03244335, 1508.61809544, 1507.0951527 ,\n",
       "       1505.54192071, 1503.98093407, 1502.42678112, 1500.88839812,\n",
       "       1499.37170073, 1497.88066619])"
      ]
     },
     "execution_count": 64,
     "metadata": {},
     "output_type": "execute_result"
    }
   ],
   "source": [
    "close_predictions[0]"
   ]
  },
  {
   "cell_type": "code",
   "execution_count": 65,
   "id": "d4400a5a",
   "metadata": {},
   "outputs": [
    {
     "data": {
      "text/plain": [
       "(252, 10)"
      ]
     },
     "execution_count": 65,
     "metadata": {},
     "output_type": "execute_result"
    }
   ],
   "source": [
    "np.array(close_predictions).shape"
   ]
  },
  {
   "cell_type": "code",
   "execution_count": 67,
   "id": "3a0aa3eb",
   "metadata": {},
   "outputs": [
    {
     "data": {
      "text/plain": [
       "(252, 15)"
      ]
     },
     "execution_count": 67,
     "metadata": {},
     "output_type": "execute_result"
    }
   ],
   "source": [
    "test.shape"
   ]
  },
  {
   "cell_type": "markdown",
   "id": "c604745e",
   "metadata": {},
   "source": [
    "## Prediction Visualization and Analysis"
   ]
  },
  {
   "cell_type": "code",
   "execution_count": 68,
   "id": "ccf7d9ee",
   "metadata": {},
   "outputs": [],
   "source": [
    "# at each step, the te\n",
    "p_close= [close_predictions[i][0] for i in range(len(close_predictions))]\n",
    "p_open= [open_predictions[i][0] for i in range(len(open_predictions))]"
   ]
  },
  {
   "cell_type": "code",
   "execution_count": 69,
   "id": "02f9c2e1",
   "metadata": {},
   "outputs": [
    {
     "data": {
      "text/plain": [
       "Text(0.5, 0, 'open')"
      ]
     },
     "execution_count": 69,
     "metadata": {},
     "output_type": "execute_result"
    },
    {
     "data": {
      "image/png": "[encoded data removed]",
      "text/plain": [
       "<Figure size 1080x360 with 2 Axes>"
      ]
     },
     "metadata": {
      "needs_background": "light"
     },
     "output_type": "display_data"
    }
   ],
   "source": [
    "plt.figure(figsize=(15, 5))\n",
    "plt.subplot(1,2,1)\n",
    "plt.plot(np.array(test['close'])[0:100])\n",
    "plt.plot(p_close[0:100],'r')\n",
    "plt.title('close values')\n",
    "plt.xlabel('close')\n",
    "plt.subplot(1,2,2)\n",
    "plt.plot(np.array(test['open'])[0:100])\n",
    "plt.plot(p_open[0:100], 'r' )\n",
    "plt.title('open values')\n",
    "plt.xlabel('open')"
   ]
  },
  {
   "cell_type": "code",
   "execution_count": 73,
   "id": "1407686f",
   "metadata": {},
   "outputs": [
    {
     "name": "stdout",
     "output_type": "stream",
     "text": [
      "24.09547280212269\n",
      "34.39828335261629\n",
      "R2 score of the Close series 0.9748536075151012\n",
      "R2 score of the open series 0.9875756602871467\n"
     ]
    }
   ],
   "source": [
    "from sklearn.metrics import mean_squared_error\n",
    "from sklearn.metrics import r2_score\n",
    "import math \n",
    "print(math.sqrt(mean_squared_error(np.array(test['open']),p_open )))\n",
    "print(math.sqrt(mean_squared_error(np.array(test['close']),p_close )))\n",
    "\n",
    "## R2 score:\n",
    "print('R2 score of the Close series',r2_score(np.array(test['close']),p_close ))\n",
    "print('R2 score of the open series',r2_score(np.array(test['open']),p_close ))"
   ]
  },
  {
   "cell_type": "code",
   "execution_count": null,
   "id": "efbc003c",
   "metadata": {},
   "outputs": [],
   "source": []
  }
 ],
 "metadata": {
  "kernelspec": {
   "display_name": "Python 3",
   "language": "python",
   "name": "python3"
  },
  "language_info": {
   "codemirror_mode": {
    "name": "ipython",
    "version": 3
   },
   "file_extension": ".py",
   "mimetype": "text/x-python",
   "name": "python",
   "nbconvert_exporter": "python",
   "pygments_lexer": "ipython3",
   "version": "3.9.4"
  }
 },
 "nbformat": 4,
 "nbformat_minor": 5
}
